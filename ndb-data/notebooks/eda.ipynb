{
 "cells": [
  {
   "cell_type": "code",
   "execution_count": 1,
   "id": "rising-survey",
   "metadata": {},
   "outputs": [
    {
     "ename": "ModuleNotFoundError",
     "evalue": "No module named 'medical_practice'",
     "output_type": "error",
     "traceback": [
      "\u001b[0;31m---------------------------------------------------------------------------\u001b[0m",
      "\u001b[0;31mModuleNotFoundError\u001b[0m                       Traceback (most recent call last)",
      "\u001b[0;32m/tmp/ipykernel_28899/42041710.py\u001b[0m in \u001b[0;36m<module>\u001b[0;34m\u001b[0m\n\u001b[1;32m      3\u001b[0m \u001b[0msys\u001b[0m\u001b[0;34m.\u001b[0m\u001b[0mpath\u001b[0m\u001b[0;34m.\u001b[0m\u001b[0mappend\u001b[0m\u001b[0;34m(\u001b[0m\u001b[0;34m\"../src\"\u001b[0m\u001b[0;34m)\u001b[0m\u001b[0;34m\u001b[0m\u001b[0;34m\u001b[0m\u001b[0m\n\u001b[1;32m      4\u001b[0m \u001b[0;31m#sys.path.append(os.path.join(os.path.dirname(__file__), '..', 'src'))\u001b[0m\u001b[0;34m\u001b[0m\u001b[0;34m\u001b[0m\u001b[0;34m\u001b[0m\u001b[0m\n\u001b[0;32m----> 5\u001b[0;31m \u001b[0;32mimport\u001b[0m \u001b[0mmedical_practice\u001b[0m \u001b[0;32mas\u001b[0m \u001b[0mmp\u001b[0m\u001b[0;34m\u001b[0m\u001b[0;34m\u001b[0m\u001b[0m\n\u001b[0m\u001b[1;32m      6\u001b[0m \u001b[0;32mimport\u001b[0m \u001b[0mmedical_checks\u001b[0m \u001b[0;32mas\u001b[0m \u001b[0mmc\u001b[0m\u001b[0;34m\u001b[0m\u001b[0;34m\u001b[0m\u001b[0m\n",
      "\u001b[0;31mModuleNotFoundError\u001b[0m: No module named 'medical_practice'"
     ]
    }
   ],
   "source": [
    "import sys, os\n",
    "\n",
    "sys.path.append(\"../src\")\n",
    "#sys.path.append(os.path.join(os.path.dirname(__file__), '..', 'src'))\n",
    "import medical_practice as mp\n",
    "import medical_checks as mc"
   ]
  },
  {
   "cell_type": "code",
   "execution_count": 49,
   "id": "lucky-allocation",
   "metadata": {},
   "outputs": [
    {
     "data": {
      "text/plain": [
       "DataTransformerRegistry.enable('default')"
      ]
     },
     "execution_count": 49,
     "metadata": {},
     "output_type": "execute_result"
    }
   ],
   "source": [
    "import pandas as pd\n",
    "import altair as alt\n",
    "alt.data_transformers.disable_max_rows()\n"
   ]
  },
  {
   "cell_type": "markdown",
   "id": "happy-teacher",
   "metadata": {},
   "source": [
    "### 性年齢データ"
   ]
  },
  {
   "cell_type": "code",
   "execution_count": null,
   "id": "integrated-contrast",
   "metadata": {},
   "outputs": [],
   "source": [
    "df_raw = mp.load_data(mp.urls[1])"
   ]
  },
  {
   "cell_type": "markdown",
   "id": "introductory-newton",
   "metadata": {},
   "source": [
    "df_raw = mp.load_data(mp.urls[-1])"
   ]
  },
  {
   "cell_type": "code",
   "execution_count": 6,
   "id": "aware-certificate",
   "metadata": {},
   "outputs": [],
   "source": [
    "index_cols = []\n",
    "for col in df_raw.columns:\n",
    "    if col[0] != \"男\" and col[0] != \"女\":\n",
    "        index_cols.append(col[0])\n",
    "\n",
    "index_cols_1 = []\n",
    "for i in range(len(index_cols)):\n",
    "    index_cols_1.append(f\"Unnamed: {str(i)}_level_1\")\n",
    "\n",
    "df = df_raw.melt(id_vars=index_cols, col_level=0, var_name=\"性別\").join(\n",
    "        df_raw.melt(id_vars=index_cols_1, col_level=1, var_name=\"年齢\")[\"年齢\"]\n",
    ")\n",
    "df[\"value\"] = df[\"value\"].replace(\"-\", \"0\")"
   ]
  },
  {
   "cell_type": "code",
   "execution_count": 7,
   "id": "appropriate-wales",
   "metadata": {},
   "outputs": [
    {
     "data": {
      "text/plain": [
       "(204708, 12)"
      ]
     },
     "execution_count": 7,
     "metadata": {},
     "output_type": "execute_result"
    }
   ],
   "source": [
    "\n",
    "df.shape"
   ]
  },
  {
   "cell_type": "code",
   "execution_count": 8,
   "id": "british-institution",
   "metadata": {},
   "outputs": [
    {
     "data": {
      "text/html": [
       "<div>\n",
       "<style scoped>\n",
       "    .dataframe tbody tr th:only-of-type {\n",
       "        vertical-align: middle;\n",
       "    }\n",
       "\n",
       "    .dataframe tbody tr th {\n",
       "        vertical-align: top;\n",
       "    }\n",
       "\n",
       "    .dataframe thead th {\n",
       "        text-align: right;\n",
       "    }\n",
       "</style>\n",
       "<table border=\"1\" class=\"dataframe\">\n",
       "  <thead>\n",
       "    <tr style=\"text-align: right;\">\n",
       "      <th></th>\n",
       "      <th>薬効\\n分類</th>\n",
       "      <th>薬効分類名称</th>\n",
       "      <th>医薬品\\nコード</th>\n",
       "      <th>医薬品名</th>\n",
       "      <th>単位</th>\n",
       "      <th>薬価基準収載\\n医薬品コード</th>\n",
       "      <th>薬価</th>\n",
       "      <th>後発品\\n区分</th>\n",
       "      <th>総計</th>\n",
       "      <th>性別</th>\n",
       "      <th>value</th>\n",
       "      <th>年齢</th>\n",
       "    </tr>\n",
       "  </thead>\n",
       "  <tbody>\n",
       "    <tr>\n",
       "      <th>0</th>\n",
       "      <td>112.0</td>\n",
       "      <td>催眠鎮静剤，抗不安剤</td>\n",
       "      <td>611170508</td>\n",
       "      <td>ソラナックス０．４ｍｇ錠</td>\n",
       "      <td>錠</td>\n",
       "      <td>1124023F1037</td>\n",
       "      <td>7.9</td>\n",
       "      <td>0</td>\n",
       "      <td>38808774.85</td>\n",
       "      <td>男</td>\n",
       "      <td>0</td>\n",
       "      <td>0～4歳</td>\n",
       "    </tr>\n",
       "    <tr>\n",
       "      <th>1</th>\n",
       "      <td>112.0</td>\n",
       "      <td>催眠鎮静剤，抗不安剤</td>\n",
       "      <td>610443047</td>\n",
       "      <td>マイスリー錠５ｍｇ</td>\n",
       "      <td>錠</td>\n",
       "      <td>1129009F1025</td>\n",
       "      <td>37.0</td>\n",
       "      <td>0</td>\n",
       "      <td>32841202.8</td>\n",
       "      <td>男</td>\n",
       "      <td>0</td>\n",
       "      <td>0～4歳</td>\n",
       "    </tr>\n",
       "    <tr>\n",
       "      <th>2</th>\n",
       "      <td>112.0</td>\n",
       "      <td>催眠鎮静剤，抗不安剤</td>\n",
       "      <td>611120055</td>\n",
       "      <td>ハルシオン０．２５ｍｇ錠</td>\n",
       "      <td>錠</td>\n",
       "      <td>1124007F2026</td>\n",
       "      <td>13.0</td>\n",
       "      <td>0</td>\n",
       "      <td>29554412.45</td>\n",
       "      <td>男</td>\n",
       "      <td>0</td>\n",
       "      <td>0～4歳</td>\n",
       "    </tr>\n",
       "    <tr>\n",
       "      <th>3</th>\n",
       "      <td>112.0</td>\n",
       "      <td>催眠鎮静剤，抗不安剤</td>\n",
       "      <td>610443048</td>\n",
       "      <td>マイスリー錠１０ｍｇ</td>\n",
       "      <td>錠</td>\n",
       "      <td>1129009F2021</td>\n",
       "      <td>59.2</td>\n",
       "      <td>0</td>\n",
       "      <td>25930690.75</td>\n",
       "      <td>男</td>\n",
       "      <td>0</td>\n",
       "      <td>0～4歳</td>\n",
       "    </tr>\n",
       "    <tr>\n",
       "      <th>4</th>\n",
       "      <td>112.0</td>\n",
       "      <td>催眠鎮静剤，抗不安剤</td>\n",
       "      <td>620004625</td>\n",
       "      <td>レンドルミン錠０．２５ｍｇ</td>\n",
       "      <td>錠</td>\n",
       "      <td>1124009F1223</td>\n",
       "      <td>22.5</td>\n",
       "      <td>0</td>\n",
       "      <td>25688208.5666</td>\n",
       "      <td>男</td>\n",
       "      <td>0</td>\n",
       "      <td>0～4歳</td>\n",
       "    </tr>\n",
       "  </tbody>\n",
       "</table>\n",
       "</div>"
      ],
      "text/plain": [
       "  薬効\\n分類      薬効分類名称   医薬品\\nコード           医薬品名 単位 薬価基準収載\\n医薬品コード    薬価  \\\n",
       "0  112.0  催眠鎮静剤，抗不安剤  611170508   ソラナックス０．４ｍｇ錠  錠   1124023F1037   7.9   \n",
       "1  112.0  催眠鎮静剤，抗不安剤  610443047      マイスリー錠５ｍｇ  錠   1129009F1025  37.0   \n",
       "2  112.0  催眠鎮静剤，抗不安剤  611120055   ハルシオン０．２５ｍｇ錠  錠   1124007F2026  13.0   \n",
       "3  112.0  催眠鎮静剤，抗不安剤  610443048     マイスリー錠１０ｍｇ  錠   1129009F2021  59.2   \n",
       "4  112.0  催眠鎮静剤，抗不安剤  620004625  レンドルミン錠０．２５ｍｇ  錠   1124009F1223  22.5   \n",
       "\n",
       "  後発品\\n区分             総計 性別 value    年齢  \n",
       "0       0    38808774.85  男     0  0～4歳  \n",
       "1       0     32841202.8  男     0  0～4歳  \n",
       "2       0    29554412.45  男     0  0～4歳  \n",
       "3       0    25930690.75  男     0  0～4歳  \n",
       "4       0  25688208.5666  男     0  0～4歳  "
      ]
     },
     "execution_count": 8,
     "metadata": {},
     "output_type": "execute_result"
    }
   ],
   "source": [
    "df.head()"
   ]
  },
  {
   "cell_type": "code",
   "execution_count": 9,
   "id": "disabled-lesbian",
   "metadata": {},
   "outputs": [
    {
     "data": {
      "text/plain": [
       "array(['0～4歳', '5～9歳', '10～14歳', '15～19歳', '20～24歳', '25～29歳', '30～34歳',\n",
       "       '35～39歳', '40～44歳', '45～49歳', '50～54歳', '55～59歳', '60～64歳',\n",
       "       '65～69歳', '70～74歳', '75～79歳', '80～84歳', '85～89歳', '90～94歳',\n",
       "       '95～99歳', '100歳以上'], dtype=object)"
      ]
     },
     "execution_count": 9,
     "metadata": {},
     "output_type": "execute_result"
    }
   ],
   "source": [
    "df['年齢'].unique()"
   ]
  },
  {
   "cell_type": "code",
   "execution_count": null,
   "id": "secret-combine",
   "metadata": {},
   "outputs": [],
   "source": [
    "# column sortが効かないので指定する\n",
    "age_cols = ['0～4歳', '5～9歳', '10～14歳', '15～19歳', '20～24歳', '25～29歳', '30～34歳',\n",
    "       '35～39歳', '40～44歳', '45～49歳', '50～54歳', '55～59歳', '60～64歳',\n",
    "       '65～69歳', '70～74歳', '75～79歳', '80～84歳', '85～89歳', '90～94歳',\n",
    "       '95～99歳', '100歳以上']\n",
    "val_plot = (\n",
    "        alt.Chart(df)\n",
    "        .mark_bar()\n",
    "        .encode(\n",
    "            y=alt.Y(\"sum(value):Q\", axis=alt.Axis(title=\"診療費\")),\n",
    "            x=alt.X(\"性別:N\", axis=alt.Axis(title=None, labels=False)),\n",
    "            color=\"性別:N\",\n",
    "            column=alt.Column(\"年齢:N\", sort=age_cols),\n",
    "            tooltip=[\"年齢\", \"sum(value):Q\"],\n",
    "        )\n",
    "        .properties(width=20)\n",
    ")\n",
    "val_plot"
   ]
  },
  {
   "cell_type": "code",
   "execution_count": null,
   "id": "involved-presence",
   "metadata": {},
   "outputs": [],
   "source": []
  },
  {
   "cell_type": "markdown",
   "id": "musical-victory",
   "metadata": {},
   "source": [
    "### 健康診断データ可視化"
   ]
  },
  {
   "cell_type": "code",
   "execution_count": 5,
   "id": "involved-safety",
   "metadata": {},
   "outputs": [
    {
     "data": {
      "text/plain": [
       "['BMI 都道府県別性年齢階級別分布',\n",
       " 'GOT（AST） 都道府県別性年齢階級別分布',\n",
       " 'GPT（ALT） 都道府県別性年齢階級別分布',\n",
       " 'HbA1c 都道府県別性年齢階級別分布',\n",
       " 'HDLコレステロール 都道府県別性年齢階級別分布',\n",
       " 'LDLコレステロール 都道府県別性年齢階級別分布',\n",
       " 'γ-GT（γ-GTP） 都道府県別性年齢階級別分布',\n",
       " 'ヘモグロビン 都道府県別性年齢階級別分布',\n",
       " '各項目の平均値 都道府県別性年齢階級別分布',\n",
       " '拡張期血圧 都道府県別性年齢階級別分布',\n",
       " '眼底検査（SCOTT分類) 都道府県別性年齢階級別分布',\n",
       " '眼底検査（キースワグナー分類） 都道府県別性年齢階級別分布',\n",
       " '眼底検査（シェイエ分類：H） 都道府県別性年齢階級別分布',\n",
       " '眼底検査（シェイエ分類：S） 都道府県別性年齢階級別分布',\n",
       " '空腹時血糖 都道府県別性年齢階級別分布',\n",
       " '収縮期血圧 都道府県別性年齢階級別分布',\n",
       " '中性脂肪 都道府県別性年齢階級別分布',\n",
       " '尿蛋白 都道府県別性年齢階級別分布',\n",
       " '尿糖 都道府県別性年齢階級別分布',\n",
       " '腹囲 都道府県別性年齢階級別分布',\n",
       " 'ヘモグロビン 都道府県別性年齢階級別分布',\n",
       " '眼底検査（SCOTT分類) 都道府県別性年齢階級別分布',\n",
       " '眼底検査（キースワグナー分類） 都道府県別性年齢階級別分布',\n",
       " '眼底検査（シェイエ分類：H） 都道府県別性年齢階級別分布',\n",
       " '眼底検査（シェイエ分類：S） 都道府県別性年齢階級別分布']"
      ]
     },
     "execution_count": 5,
     "metadata": {},
     "output_type": "execute_result"
    }
   ],
   "source": [
    "mc.titles"
   ]
  },
  {
   "cell_type": "code",
   "execution_count": 32,
   "id": "biological-fiber",
   "metadata": {},
   "outputs": [
    {
     "data": {
      "text/plain": [
       "(236, 20)"
      ]
     },
     "execution_count": 32,
     "metadata": {},
     "output_type": "execute_result"
    }
   ],
   "source": [
    "def load_data(url):\n",
    "    df = pd.read_excel(url, skiprows=1, header=[0, 1, 2])\n",
    "    \n",
    "    return df\n",
    "\n",
    "df_raw = load_data(mc.urls[0])\n",
    "df_raw.shape"
   ]
  },
  {
   "cell_type": "code",
   "execution_count": 33,
   "id": "statewide-novel",
   "metadata": {},
   "outputs": [],
   "source": [
    "df_raw = df_raw.fillna(method=\"ffill\")\n",
    "df_raw = df_raw.fillna(method=\"ffill\", axis=1)\n"
   ]
  },
  {
   "cell_type": "code",
   "execution_count": null,
   "id": "consistent-transport",
   "metadata": {},
   "outputs": [],
   "source": [
    "df_raw.head()"
   ]
  },
  {
   "cell_type": "code",
   "execution_count": 35,
   "id": "western-import",
   "metadata": {},
   "outputs": [],
   "source": [
    "index_cols = []\n",
    "for col in df_raw.columns:\n",
    "    if col[0] != \"男\" and col[0] != \"女\":\n",
    "        index_cols.append(col[0])\n",
    "\n",
    "index_cols_1 = []\n",
    "for i in range(len(index_cols)):\n",
    "    index_cols_1.append(f\"Unnamed: {str(i)}_level_1\")\n",
    "\n"
   ]
  },
  {
   "cell_type": "code",
   "execution_count": null,
   "id": "worst-translator",
   "metadata": {},
   "outputs": [],
   "source": [
    "df_raw.columns"
   ]
  },
  {
   "cell_type": "code",
   "execution_count": 41,
   "id": "paperback-calvin",
   "metadata": {},
   "outputs": [
    {
     "data": {
      "text/plain": [
       "['都道府県名 Unnamed: 0_level_1 Unnamed: 0_level_2',\n",
       " '検査値階層\\n（kg/㎡） Unnamed: 1_level_1 Unnamed: 1_level_2',\n",
       " '全体 男 40～44歳',\n",
       " '全体 男 45～49歳',\n",
       " '全体 男 50～54歳',\n",
       " '全体 男 55～59歳',\n",
       " '全体 男 60～64歳',\n",
       " '全体 男 65～69歳',\n",
       " '全体 男 70～74歳',\n",
       " '全体 男 中計',\n",
       " '全体 女 40～44歳',\n",
       " '全体 女 45～49歳',\n",
       " '全体 女 50～54歳',\n",
       " '全体 女 55～59歳',\n",
       " '全体 女 60～64歳',\n",
       " '全体 女 65～69歳',\n",
       " '全体 女 70～74歳',\n",
       " '全体 女 中計',\n",
       " '全体 女 中計.1',\n",
       " '全体 女 中計.2']"
      ]
     },
     "execution_count": 41,
     "metadata": {},
     "output_type": "execute_result"
    }
   ],
   "source": [
    "[' '.join(col).strip() for col in df_raw.columns.values]\n"
   ]
  },
  {
   "cell_type": "code",
   "execution_count": null,
   "id": "diagnostic-helicopter",
   "metadata": {},
   "outputs": [],
   "source": []
  }
 ],
 "metadata": {
  "kernelspec": {
   "display_name": "Python 3",
   "language": "python",
   "name": "python3"
  },
  "language_info": {
   "codemirror_mode": {
    "name": "ipython",
    "version": 3
   },
   "file_extension": ".py",
   "mimetype": "text/x-python",
   "name": "python",
   "nbconvert_exporter": "python",
   "pygments_lexer": "ipython3",
   "version": "3.8.1"
  }
 },
 "nbformat": 4,
 "nbformat_minor": 5
}

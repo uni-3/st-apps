{
 "cells": [
  {
   "cell_type": "code",
   "execution_count": 2,
   "id": "90ec2864",
   "metadata": {},
   "outputs": [],
   "source": [
    "import geopandas\n",
    "import geopandas.tools as gts\n"
   ]
  },
  {
   "cell_type": "code",
   "execution_count": 3,
   "id": "fd840db7",
   "metadata": {},
   "outputs": [],
   "source": [
    "# 宮崎県・鹿児島県・沖縄県はデータ上まとめられてるのでなし\n",
    "prefs = [\n",
    "    '北海道', '青森県', '岩手県', '宮城県', '秋田県', '山形県',\n",
    "    '福島県', '茨城県', '栃木県', '群馬県', '埼玉県', '千葉県',\n",
    "    '東京都', '神奈川県', '新潟県', '富山県', '石川県', '福井県',\n",
    "    '山梨県', '長野県', '岐阜県', '静岡県', '愛知県', '三重県',\n",
    "    '滋賀県', '京都府', '大阪府', '兵庫県', '奈良県', '和歌山県',\n",
    "    '鳥取県', '島根県', '岡山県', '広島県', '山口県', '徳島県', \n",
    "    '香川県', '愛媛県', '高知県', '福岡県', '佐賀県', '長崎県', \n",
    "    '熊本県', '大分県'\n",
    "]\n"
   ]
  },
  {
   "cell_type": "code",
   "execution_count": 4,
   "id": "49fe23f2",
   "metadata": {},
   "outputs": [],
   "source": [
    "codes = gts.geocode(prefs, provider='nominatim', user_agent='test')\n",
    "# GeoJSONを出力\n",
    "#outpath = './prefs.geojson'\n",
    "#codes.to_file(outpath, driver='GeoJSON', encoding='utf-8')\n"
   ]
  },
  {
   "cell_type": "code",
   "execution_count": 5,
   "id": "205e3535",
   "metadata": {},
   "outputs": [
    {
     "data": {
      "text/plain": [
       "<AxesSubplot:>"
      ]
     },
     "execution_count": 5,
     "metadata": {},
     "output_type": "execute_result"
    },
    {
     "data": {
      "image/png": "[encoded data removed]",
      "text/plain": [
       "<Figure size 432x288 with 1 Axes>"
      ]
     },
     "metadata": {
      "needs_background": "light"
     },
     "output_type": "display_data"
    }
   ],
   "source": [
    "codes.plot()"
   ]
  },
  {
   "cell_type": "code",
   "execution_count": 13,
   "id": "80ff103c",
   "metadata": {},
   "outputs": [
    {
     "data": {
      "text/plain": [
       "'北海道, 日本の緯度経度: (142.8197834,43.4519831)'"
      ]
     },
     "execution_count": 13,
     "metadata": {},
     "output_type": "execute_result"
    }
   ],
   "source": [
    "pref = codes[\"address\"][0]\n",
    "# lon\n",
    "lon = codes[\"geometry\"][0].x\n",
    "# lat\n",
    "lat = codes[\"geometry\"][0].y\n",
    "\n",
    "f'{pref}の緯度経度: ({lon},{lat})'"
   ]
  },
  {
   "cell_type": "code",
   "execution_count": 64,
   "id": "421646a2",
   "metadata": {},
   "outputs": [],
   "source": [
    "codes['lon'] = codes['geometry'].map(lambda x: x.x)\n",
    "codes['lat'] = codes['geometry'].map(lambda x: x.y)\n"
   ]
  },
  {
   "cell_type": "code",
   "execution_count": 77,
   "id": "ec416ecc",
   "metadata": {},
   "outputs": [],
   "source": [
    "import random\n",
    "codes['rand'] = codes['geometry'].map(lambda x: random.randint(0, 10))"
   ]
  },
  {
   "cell_type": "code",
   "execution_count": 93,
   "id": "f38473af",
   "metadata": {},
   "outputs": [
    {
     "data": {
      "text/html": [
       "<div>\n",
       "<style scoped>\n",
       "    .dataframe tbody tr th:only-of-type {\n",
       "        vertical-align: middle;\n",
       "    }\n",
       "\n",
       "    .dataframe tbody tr th {\n",
       "        vertical-align: top;\n",
       "    }\n",
       "\n",
       "    .dataframe thead th {\n",
       "        text-align: right;\n",
       "    }\n",
       "</style>\n",
       "<table border=\"1\" class=\"dataframe\">\n",
       "  <thead>\n",
       "    <tr style=\"text-align: right;\">\n",
       "      <th></th>\n",
       "      <th>geometry</th>\n",
       "      <th>address</th>\n",
       "      <th>lot</th>\n",
       "      <th>lat</th>\n",
       "      <th>lob</th>\n",
       "      <th>lon</th>\n",
       "      <th>rand</th>\n",
       "    </tr>\n",
       "  </thead>\n",
       "  <tbody>\n",
       "    <tr>\n",
       "      <th>0</th>\n",
       "      <td>POINT (142.81978 43.45198)</td>\n",
       "      <td>北海道, 日本</td>\n",
       "      <td>142.819783</td>\n",
       "      <td>43.451983</td>\n",
       "      <td>142.819783</td>\n",
       "      <td>142.819783</td>\n",
       "      <td>2</td>\n",
       "    </tr>\n",
       "    <tr>\n",
       "      <th>1</th>\n",
       "      <td>POINT (140.59012 40.88694)</td>\n",
       "      <td>青森県, 日本</td>\n",
       "      <td>140.590121</td>\n",
       "      <td>40.886943</td>\n",
       "      <td>140.590121</td>\n",
       "      <td>140.590121</td>\n",
       "      <td>4</td>\n",
       "    </tr>\n",
       "    <tr>\n",
       "      <th>2</th>\n",
       "      <td>POINT (141.42536 39.57138)</td>\n",
       "      <td>岩手県, 日本</td>\n",
       "      <td>141.425357</td>\n",
       "      <td>39.571376</td>\n",
       "      <td>141.425357</td>\n",
       "      <td>141.425357</td>\n",
       "      <td>6</td>\n",
       "    </tr>\n",
       "    <tr>\n",
       "      <th>3</th>\n",
       "      <td>POINT (140.97610 38.38802)</td>\n",
       "      <td>宮城県, 日本</td>\n",
       "      <td>140.976102</td>\n",
       "      <td>38.388016</td>\n",
       "      <td>140.976102</td>\n",
       "      <td>140.976102</td>\n",
       "      <td>3</td>\n",
       "    </tr>\n",
       "    <tr>\n",
       "      <th>4</th>\n",
       "      <td>POINT (140.34261 39.68988)</td>\n",
       "      <td>秋田県, 日本</td>\n",
       "      <td>140.342608</td>\n",
       "      <td>39.689880</td>\n",
       "      <td>140.342608</td>\n",
       "      <td>140.342608</td>\n",
       "      <td>5</td>\n",
       "    </tr>\n",
       "  </tbody>\n",
       "</table>\n",
       "</div>"
      ],
      "text/plain": [
       "                     geometry  address         lot        lat         lob  \\\n",
       "0  POINT (142.81978 43.45198)  北海道, 日本  142.819783  43.451983  142.819783   \n",
       "1  POINT (140.59012 40.88694)  青森県, 日本  140.590121  40.886943  140.590121   \n",
       "2  POINT (141.42536 39.57138)  岩手県, 日本  141.425357  39.571376  141.425357   \n",
       "3  POINT (140.97610 38.38802)  宮城県, 日本  140.976102  38.388016  140.976102   \n",
       "4  POINT (140.34261 39.68988)  秋田県, 日本  140.342608  39.689880  140.342608   \n",
       "\n",
       "          lon  rand  \n",
       "0  142.819783     2  \n",
       "1  140.590121     4  \n",
       "2  141.425357     6  \n",
       "3  140.976102     3  \n",
       "4  140.342608     5  "
      ]
     },
     "execution_count": 93,
     "metadata": {},
     "output_type": "execute_result"
    }
   ],
   "source": [
    "codes.head()"
   ]
  },
  {
   "cell_type": "code",
   "execution_count": 79,
   "id": "4c4e2e86",
   "metadata": {},
   "outputs": [
    {
     "name": "stdout",
     "output_type": "stream",
     "text": [
      "北海道, 日本: [142.8197834, 43.4519831]\n"
     ]
    }
   ],
   "source": [
    "import json\n",
    "geojson = json.loads(codes.to_json())\n",
    "\n",
    "for feat in geojson['features']:\n",
    "    prop = feat['properties']\n",
    "    coor = feat[\"geometry\"][\"coordinates\"]\n",
    "    print(f\"{prop['address']}: {coor}\")\\\n",
    "    \n",
    "    break"
   ]
  },
  {
   "cell_type": "code",
   "execution_count": 111,
   "id": "5ad35652",
   "metadata": {},
   "outputs": [
    {
     "data": {
      "text/html": [
       "\n",
       "        <iframe\n",
       "            width=\"100%\"\n",
       "            height=500\n",
       "            frameborder=\"0\"\n",
       "            srcdoc=\"&lt;!DOCTYPE html&gt;\n",
       "&lt;html&gt;\n",
       "  &lt;head&gt;\n",
       "    &lt;meta http-equiv=&quot;content-type&quot; content=&quot;text/html; charset=UTF-8&quot; /&gt;\n",
       "    &lt;title&gt;pydeck&lt;/title&gt;\n",
       "        &lt;script src=&quot;https://api.tiles.mapbox.com/mapbox-gl-js/v1.13.0/mapbox-gl.js&quot;&gt;&lt;/script&gt;\n",
       "        &lt;link rel=&quot;stylesheet&quot; href=&quot;https://maxcdn.bootstrapcdn.com/bootstrap/3.2.0/css/bootstrap-theme.min.css&quot; /&gt;\n",
       "    &lt;link rel=&quot;stylesheet&quot; href=&quot;https://maxcdn.bootstrapcdn.com/font-awesome/4.6.3/css/font-awesome.min.css&quot; /&gt;\n",
       "    &lt;script src=&#x27;https://cdn.jsdelivr.net/npm/@deck.gl/jupyter-widget@~8.5.*/dist/index.js&#x27;&gt;&lt;/script&gt;\n",
       "    &lt;style&gt;\n",
       "    body {\n",
       "  margin: 0;\n",
       "  padding: 0;\n",
       "  overflow: hidden;\n",
       "}\n",
       "\n",
       "#deck-map-container {\n",
       "  width: 100%;\n",
       "  height: 100%;\n",
       "  background-color: black;\n",
       "}\n",
       "\n",
       "#map {\n",
       "  pointer-events: none;\n",
       "  height: 100%;\n",
       "  width: 100%;\n",
       "  position: absolute;\n",
       "  z-index: 1;\n",
       "}\n",
       "\n",
       "#deckgl-overlay {\n",
       "  z-index: 2;\n",
       "  background: none;\n",
       "}\n",
       "\n",
       "#deck-map-wrapper {\n",
       "  width: 100%;\n",
       "  height: 100%;\n",
       "}\n",
       "\n",
       "#deck-container {\n",
       "  width: 100vw;\n",
       "  height: 100vh;\n",
       "}\n",
       "    &lt;/style&gt;\n",
       "  &lt;/head&gt;\n",
       "  &lt;body&gt;\n",
       "    &lt;div id=&quot;deck-container&quot;&gt;\n",
       "    &lt;/div&gt;\n",
       "  &lt;/body&gt;\n",
       "  &lt;script&gt;\n",
       "    const jsonInput = {&quot;initialViewState&quot;: {&quot;bearing&quot;: 0, &quot;latitude&quot;: 36.047, &quot;longitude&quot;: 137.5936, &quot;maxZoom&quot;: 15, &quot;minZoom&quot;: 1, &quot;pitch&quot;: 50, &quot;zoom&quot;: 5}, &quot;layers&quot;: [{&quot;@@type&quot;: &quot;HeatmapLayer&quot;, &quot;aggregation&quot;: &quot;MEAN&quot;, &quot;data&quot;: [{&quot;address&quot;: &quot;\\u5317\\u6d77\\u9053, \\u65e5\\u672c&quot;, &quot;geometry&quot;: {&quot;coordinates&quot;: [142.8197834, 43.4519831], &quot;type&quot;: &quot;Point&quot;}, &quot;lat&quot;: 43.4519831, &quot;lob&quot;: 142.8197834, &quot;lon&quot;: 142.8197834, &quot;lot&quot;: 142.8197834, &quot;rand&quot;: 2}, {&quot;address&quot;: &quot;\\u9752\\u68ee\\u770c, \\u65e5\\u672c&quot;, &quot;geometry&quot;: {&quot;coordinates&quot;: [140.590121, 40.886943], &quot;type&quot;: &quot;Point&quot;}, &quot;lat&quot;: 40.886943, &quot;lob&quot;: 140.590121, &quot;lon&quot;: 140.590121, &quot;lot&quot;: 140.590121, &quot;rand&quot;: 4}, {&quot;address&quot;: &quot;\\u5ca9\\u624b\\u770c, \\u65e5\\u672c&quot;, &quot;geometry&quot;: {&quot;coordinates&quot;: [141.4253574, 39.5713763], &quot;type&quot;: &quot;Point&quot;}, &quot;lat&quot;: 39.5713763, &quot;lob&quot;: 141.4253574, &quot;lon&quot;: 141.4253574, &quot;lot&quot;: 141.4253574, &quot;rand&quot;: 6}, {&quot;address&quot;: &quot;\\u5bae\\u57ce\\u770c, \\u65e5\\u672c&quot;, &quot;geometry&quot;: {&quot;coordinates&quot;: [140.9761025, 38.3880155], &quot;type&quot;: &quot;Point&quot;}, &quot;lat&quot;: 38.3880155, &quot;lob&quot;: 140.9761025, &quot;lon&quot;: 140.9761025, &quot;lot&quot;: 140.9761025, &quot;rand&quot;: 3}, {&quot;address&quot;: &quot;\\u79cb\\u7530\\u770c, \\u65e5\\u672c&quot;, &quot;geometry&quot;: {&quot;coordinates&quot;: [140.342608, 39.6898802], &quot;type&quot;: &quot;Point&quot;}, &quot;lat&quot;: 39.6898802, &quot;lob&quot;: 140.342608, &quot;lon&quot;: 140.342608, &quot;lot&quot;: 140.342608, &quot;rand&quot;: 5}, {&quot;address&quot;: &quot;\\u5c71\\u5f62\\u770c, \\u65e5\\u672c&quot;, &quot;geometry&quot;: {&quot;coordinates&quot;: [140.083237, 38.4746705], &quot;type&quot;: &quot;Point&quot;}, &quot;lat&quot;: 38.4746705, &quot;lob&quot;: 140.083237, &quot;lon&quot;: 140.083237, &quot;lot&quot;: 140.083237, &quot;rand&quot;: 9}, {&quot;address&quot;: &quot;\\u798f\\u5cf6\\u770c, \\u65e5\\u672c&quot;, &quot;geometry&quot;: {&quot;coordinates&quot;: [140.2511854, 37.3662591], &quot;type&quot;: &quot;Point&quot;}, &quot;lat&quot;: 37.3662591, &quot;lob&quot;: 140.2511854, &quot;lon&quot;: 140.2511854, &quot;lot&quot;: 140.2511854, &quot;rand&quot;: 2}, {&quot;address&quot;: &quot;\\u8328\\u57ce\\u770c, \\u65e5\\u672c&quot;, &quot;geometry&quot;: {&quot;coordinates&quot;: [140.4703384, 36.2869536], &quot;type&quot;: &quot;Point&quot;}, &quot;lat&quot;: 36.2869536, &quot;lob&quot;: 140.4703384, &quot;lon&quot;: 140.4703384, &quot;lot&quot;: 140.4703384, &quot;rand&quot;: 7}, {&quot;address&quot;: &quot;\\u6803\\u6728\\u770c, \\u65e5\\u672c&quot;, &quot;geometry&quot;: {&quot;coordinates&quot;: [139.8096549, 36.6782167], &quot;type&quot;: &quot;Point&quot;}, &quot;lat&quot;: 36.6782167, &quot;lob&quot;: 139.8096549, &quot;lon&quot;: 139.8096549, &quot;lot&quot;: 139.8096549, &quot;rand&quot;: 8}, {&quot;address&quot;: &quot;\\u7fa4\\u99ac\\u770c, \\u65e5\\u672c&quot;, &quot;geometry&quot;: {&quot;coordinates&quot;: [139.033483, 36.52198], &quot;type&quot;: &quot;Point&quot;}, &quot;lat&quot;: 36.52198, &quot;lob&quot;: 139.033483, &quot;lon&quot;: 139.033483, &quot;lot&quot;: 139.033483, &quot;rand&quot;: 6}, {&quot;address&quot;: &quot;\\u57fc\\u7389\\u770c, \\u65e5\\u672c&quot;, &quot;geometry&quot;: {&quot;coordinates&quot;: [139.4160114, 35.9754168], &quot;type&quot;: &quot;Point&quot;}, &quot;lat&quot;: 35.9754168, &quot;lob&quot;: 139.4160114, &quot;lon&quot;: 139.4160114, &quot;lot&quot;: 139.4160114, &quot;rand&quot;: 9}, {&quot;address&quot;: &quot;\\u5343\\u8449\\u770c, \\u65e5\\u672c&quot;, &quot;geometry&quot;: {&quot;coordinates&quot;: [140.2647303, 35.549399], &quot;type&quot;: &quot;Point&quot;}, &quot;lat&quot;: 35.549399, &quot;lob&quot;: 140.2647303, &quot;lon&quot;: 140.2647303, &quot;lot&quot;: 140.2647303, &quot;rand&quot;: 5}, {&quot;address&quot;: &quot;\\u6771\\u4eac\\u90fd, \\u65e5\\u672c&quot;, &quot;geometry&quot;: {&quot;coordinates&quot;: [139.7594549, 35.6828387], &quot;type&quot;: &quot;Point&quot;}, &quot;lat&quot;: 35.6828387, &quot;lob&quot;: 139.7594549, &quot;lon&quot;: 139.7594549, &quot;lot&quot;: 139.7594549, &quot;rand&quot;: 7}, {&quot;address&quot;: &quot;\\u795e\\u5948\\u5ddd\\u770c, \\u65e5\\u672c&quot;, &quot;geometry&quot;: {&quot;coordinates&quot;: [139.374753, 35.4342935], &quot;type&quot;: &quot;Point&quot;}, &quot;lat&quot;: 35.4342935, &quot;lob&quot;: 139.374753, &quot;lon&quot;: 139.374753, &quot;lot&quot;: 139.374753, &quot;rand&quot;: 7}, {&quot;address&quot;: &quot;\\u65b0\\u6f5f\\u770c, \\u65e5\\u672c&quot;, &quot;geometry&quot;: {&quot;coordinates&quot;: [138.7669125, 37.6452283], &quot;type&quot;: &quot;Point&quot;}, &quot;lat&quot;: 37.6452283, &quot;lob&quot;: 138.7669125, &quot;lon&quot;: 138.7669125, &quot;lot&quot;: 138.7669125, &quot;rand&quot;: 9}, {&quot;address&quot;: &quot;\\u5bcc\\u5c71\\u770c, \\u65e5\\u672c&quot;, &quot;geometry&quot;: {&quot;coordinates&quot;: [137.2183531, 36.6468015], &quot;type&quot;: &quot;Point&quot;}, &quot;lat&quot;: 36.6468015, &quot;lob&quot;: 137.2183531, &quot;lon&quot;: 137.2183531, &quot;lot&quot;: 137.2183531, &quot;rand&quot;: 9}, {&quot;address&quot;: &quot;\\u77f3\\u5ddd\\u770c, \\u65e5\\u672c&quot;, &quot;geometry&quot;: {&quot;coordinates&quot;: [136.8163563, 36.9888678], &quot;type&quot;: &quot;Point&quot;}, &quot;lat&quot;: 36.9888678, &quot;lob&quot;: 136.8163563, &quot;lon&quot;: 136.8163563, &quot;lot&quot;: 136.8163563, &quot;rand&quot;: 1}, {&quot;address&quot;: &quot;\\u798f\\u4e95\\u770c, \\u65e5\\u672c&quot;, &quot;geometry&quot;: {&quot;coordinates&quot;: [136.6068127, 35.9263502], &quot;type&quot;: &quot;Point&quot;}, &quot;lat&quot;: 35.9263502, &quot;lob&quot;: 136.6068127, &quot;lon&quot;: 136.6068127, &quot;lot&quot;: 136.6068127, &quot;rand&quot;: 3}, {&quot;address&quot;: &quot;\\u5c71\\u68a8\\u770c, \\u65e5\\u672c&quot;, &quot;geometry&quot;: {&quot;coordinates&quot;: [138.6380495, 35.6399328], &quot;type&quot;: &quot;Point&quot;}, &quot;lat&quot;: 35.6399328, &quot;lob&quot;: 138.6380495, &quot;lon&quot;: 138.6380495, &quot;lot&quot;: 138.6380495, &quot;rand&quot;: 10}, {&quot;address&quot;: &quot;\\u9577\\u91ce\\u770c, \\u65e5\\u672c&quot;, &quot;geometry&quot;: {&quot;coordinates&quot;: [138.0319015, 36.1143945], &quot;type&quot;: &quot;Point&quot;}, &quot;lat&quot;: 36.1143945, &quot;lob&quot;: 138.0319015, &quot;lon&quot;: 138.0319015, &quot;lot&quot;: 138.0319015, &quot;rand&quot;: 0}, {&quot;address&quot;: &quot;\\u5c90\\u961c\\u770c, \\u65e5\\u672c&quot;, &quot;geometry&quot;: {&quot;coordinates&quot;: [137.0460777, 35.7867449], &quot;type&quot;: &quot;Point&quot;}, &quot;lat&quot;: 35.7867449, &quot;lob&quot;: 137.0460777, &quot;lon&quot;: 137.0460777, &quot;lot&quot;: 137.0460777, &quot;rand&quot;: 4}, {&quot;address&quot;: &quot;\\u9759\\u5ca1\\u770c, \\u65e5\\u672c&quot;, &quot;geometry&quot;: {&quot;coordinates&quot;: [138.0955398, 34.9332488], &quot;type&quot;: &quot;Point&quot;}, &quot;lat&quot;: 34.9332488, &quot;lob&quot;: 138.0955398, &quot;lon&quot;: 138.0955398, &quot;lot&quot;: 138.0955398, &quot;rand&quot;: 10}, {&quot;address&quot;: &quot;\\u611b\\u77e5\\u770c, \\u65e5\\u672c&quot;, &quot;geometry&quot;: {&quot;coordinates&quot;: [137.254574, 34.9991645], &quot;type&quot;: &quot;Point&quot;}, &quot;lat&quot;: 34.9991645, &quot;lob&quot;: 137.254574, &quot;lon&quot;: 137.254574, &quot;lot&quot;: 137.254574, &quot;rand&quot;: 2}, {&quot;address&quot;: &quot;\\u4e09\\u91cd\\u770c, \\u65e5\\u672c&quot;, &quot;geometry&quot;: {&quot;coordinates&quot;: [136.5154489, 34.7339685], &quot;type&quot;: &quot;Point&quot;}, &quot;lat&quot;: 34.7339685, &quot;lob&quot;: 136.5154489, &quot;lon&quot;: 136.5154489, &quot;lot&quot;: 136.5154489, &quot;rand&quot;: 6}, {&quot;address&quot;: &quot;\\u6ecb\\u8cc0\\u770c, \\u65e5\\u672c&quot;, &quot;geometry&quot;: {&quot;coordinates&quot;: [136.109385, 35.247154], &quot;type&quot;: &quot;Point&quot;}, &quot;lat&quot;: 35.247154, &quot;lob&quot;: 136.109385, &quot;lon&quot;: 136.109385, &quot;lot&quot;: 136.109385, &quot;rand&quot;: 0}, {&quot;address&quot;: &quot;\\u4eac\\u90fd\\u5e9c, \\u65e5\\u672c&quot;, &quot;geometry&quot;: {&quot;coordinates&quot;: [135.454601, 35.242552], &quot;type&quot;: &quot;Point&quot;}, &quot;lat&quot;: 35.242552, &quot;lob&quot;: 135.454601, &quot;lon&quot;: 135.454601, &quot;lot&quot;: 135.454601, &quot;rand&quot;: 3}, {&quot;address&quot;: &quot;\\u5927\\u962a\\u5e9c, \\u65e5\\u672c&quot;, &quot;geometry&quot;: {&quot;coordinates&quot;: [135.490357, 34.6198813], &quot;type&quot;: &quot;Point&quot;}, &quot;lat&quot;: 34.6198813, &quot;lob&quot;: 135.490357, &quot;lon&quot;: 135.490357, &quot;lot&quot;: 135.490357, &quot;rand&quot;: 7}, {&quot;address&quot;: &quot;\\u5175\\u5eab\\u770c, \\u65e5\\u672c&quot;, &quot;geometry&quot;: {&quot;coordinates&quot;: [134.860666, 34.914934], &quot;type&quot;: &quot;Point&quot;}, &quot;lat&quot;: 34.914934, &quot;lob&quot;: 134.860666, &quot;lon&quot;: 134.860666, &quot;lot&quot;: 134.860666, &quot;rand&quot;: 6}, {&quot;address&quot;: &quot;\\u5948\\u826f\\u770c, \\u65e5\\u672c&quot;, &quot;geometry&quot;: {&quot;coordinates&quot;: [135.8816819, 34.2963089], &quot;type&quot;: &quot;Point&quot;}, &quot;lat&quot;: 34.2963089, &quot;lob&quot;: 135.8816819, &quot;lon&quot;: 135.8816819, &quot;lot&quot;: 135.8816819, &quot;rand&quot;: 7}, {&quot;address&quot;: &quot;\\u548c\\u6b4c\\u5c71\\u770c, \\u65e5\\u672c&quot;, &quot;geometry&quot;: {&quot;coordinates&quot;: [135.5930743, 33.8070292], &quot;type&quot;: &quot;Point&quot;}, &quot;lat&quot;: 33.8070292, &quot;lob&quot;: 135.5930743, &quot;lon&quot;: 135.5930743, &quot;lot&quot;: 135.5930743, &quot;rand&quot;: 7}, {&quot;address&quot;: &quot;\\u9ce5\\u53d6\\u770c, \\u65e5\\u672c&quot;, &quot;geometry&quot;: {&quot;coordinates&quot;: [133.8678525, 35.3555075], &quot;type&quot;: &quot;Point&quot;}, &quot;lat&quot;: 35.3555075, &quot;lob&quot;: 133.8678525, &quot;lon&quot;: 133.8678525, &quot;lot&quot;: 133.8678525, &quot;rand&quot;: 9}, {&quot;address&quot;: &quot;\\u5cf6\\u6839\\u770c, \\u65e5\\u672c&quot;, &quot;geometry&quot;: {&quot;coordinates&quot;: [132.537439, 34.9418212], &quot;type&quot;: &quot;Point&quot;}, &quot;lat&quot;: 34.9418212, &quot;lob&quot;: 132.537439, &quot;lon&quot;: 132.537439, &quot;lot&quot;: 132.537439, &quot;rand&quot;: 4}, {&quot;address&quot;: &quot;\\u5ca1\\u5c71\\u770c, \\u65e5\\u672c&quot;, &quot;geometry&quot;: {&quot;coordinates&quot;: [133.7759256, 34.8581334], &quot;type&quot;: &quot;Point&quot;}, &quot;lat&quot;: 34.8581334, &quot;lob&quot;: 133.7759256, &quot;lon&quot;: 133.7759256, &quot;lot&quot;: 133.7759256, &quot;rand&quot;: 10}, {&quot;address&quot;: &quot;\\u5e83\\u5cf6\\u770c, \\u65e5\\u672c&quot;, &quot;geometry&quot;: {&quot;coordinates&quot;: [132.753565, 34.5666725], &quot;type&quot;: &quot;Point&quot;}, &quot;lat&quot;: 34.5666725, &quot;lob&quot;: 132.753565, &quot;lon&quot;: 132.753565, &quot;lot&quot;: 132.753565, &quot;rand&quot;: 10}, {&quot;address&quot;: &quot;\\u5c71\\u53e3\\u770c, \\u65e5\\u672c&quot;, &quot;geometry&quot;: {&quot;coordinates&quot;: [131.5873845, 34.2379614], &quot;type&quot;: &quot;Point&quot;}, &quot;lat&quot;: 34.2379614, &quot;lob&quot;: 131.5873845, &quot;lon&quot;: 131.5873845, &quot;lot&quot;: 131.5873845, &quot;rand&quot;: 8}, {&quot;address&quot;: &quot;\\u5fb3\\u5cf6\\u770c, \\u65e5\\u672c&quot;, &quot;geometry&quot;: {&quot;coordinates&quot;: [134.2509634, 33.9196418], &quot;type&quot;: &quot;Point&quot;}, &quot;lat&quot;: 33.9196418, &quot;lob&quot;: 134.2509634, &quot;lon&quot;: 134.2509634, &quot;lot&quot;: 134.2509634, &quot;rand&quot;: 3}, {&quot;address&quot;: &quot;\\u9999\\u5ddd\\u770c, \\u65e5\\u672c&quot;, &quot;geometry&quot;: {&quot;coordinates&quot;: [134.0586579, 34.2480104], &quot;type&quot;: &quot;Point&quot;}, &quot;lat&quot;: 34.2480104, &quot;lob&quot;: 134.0586579, &quot;lon&quot;: 134.0586579, &quot;lot&quot;: 134.0586579, &quot;rand&quot;: 10}, {&quot;address&quot;: &quot;\\u611b\\u5a9b\\u770c, \\u65e5\\u672c&quot;, &quot;geometry&quot;: {&quot;coordinates&quot;: [132.8185275, 33.6013646], &quot;type&quot;: &quot;Point&quot;}, &quot;lat&quot;: 33.6013646, &quot;lob&quot;: 132.8185275, &quot;lon&quot;: 132.8185275, &quot;lot&quot;: 132.8185275, &quot;rand&quot;: 1}, {&quot;address&quot;: &quot;\\u9ad8\\u77e5\\u770c, \\u65e5\\u672c&quot;, &quot;geometry&quot;: {&quot;coordinates&quot;: [133.5606241, 33.6569018], &quot;type&quot;: &quot;Point&quot;}, &quot;lat&quot;: 33.6569018, &quot;lob&quot;: 133.5606241, &quot;lon&quot;: 133.5606241, &quot;lot&quot;: 133.5606241, &quot;rand&quot;: 5}, {&quot;address&quot;: &quot;\\u798f\\u5ca1\\u770c, \\u65e5\\u672c&quot;, &quot;geometry&quot;: {&quot;coordinates&quot;: [130.6180016, 33.6251241], &quot;type&quot;: &quot;Point&quot;}, &quot;lat&quot;: 33.6251241, &quot;lob&quot;: 130.6180016, &quot;lon&quot;: 130.6180016, &quot;lot&quot;: 130.6180016, &quot;rand&quot;: 3}, {&quot;address&quot;: &quot;\\u4f50\\u8cc0\\u770c, \\u65e5\\u672c&quot;, &quot;geometry&quot;: {&quot;coordinates&quot;: [130.1296585, 33.2185408], &quot;type&quot;: &quot;Point&quot;}, &quot;lat&quot;: 33.2185408, &quot;lob&quot;: 130.1296585, &quot;lon&quot;: 130.1296585, &quot;lot&quot;: 130.1296585, &quot;rand&quot;: 5}, {&quot;address&quot;: &quot;\\u9577\\u5d0e\\u770c, \\u65e5\\u672c&quot;, &quot;geometry&quot;: {&quot;coordinates&quot;: [129.7874339, 33.1154683], &quot;type&quot;: &quot;Point&quot;}, &quot;lat&quot;: 33.1154683, &quot;lob&quot;: 129.7874339, &quot;lon&quot;: 129.7874339, &quot;lot&quot;: 129.7874339, &quot;rand&quot;: 5}, {&quot;address&quot;: &quot;\\u718a\\u672c\\u770c, \\u65e5\\u672c&quot;, &quot;geometry&quot;: {&quot;coordinates&quot;: [130.6341345, 32.6450475], &quot;type&quot;: &quot;Point&quot;}, &quot;lat&quot;: 32.6450475, &quot;lob&quot;: 130.6341345, &quot;lon&quot;: 130.6341345, &quot;lot&quot;: 130.6341345, &quot;rand&quot;: 9}, {&quot;address&quot;: &quot;\\u5927\\u5206\\u770c, \\u65e5\\u672c&quot;, &quot;geometry&quot;: {&quot;coordinates&quot;: [131.4270217, 33.1819875], &quot;type&quot;: &quot;Point&quot;}, &quot;lat&quot;: 33.1819875, &quot;lob&quot;: 131.4270217, &quot;lon&quot;: 131.4270217, &quot;lot&quot;: 131.4270217, &quot;rand&quot;: 3}], &quot;getPosition&quot;: &quot;@@=[lon, lat]&quot;, &quot;getRadius&quot;: 100, &quot;getWeight&quot;: &quot;@@=rand&quot;, &quot;id&quot;: &quot;06a64849-e606-4faa-acad-502c8e7777ef&quot;, &quot;opacity&quot;: 0.7, &quot;pickable&quot;: true, &quot;radiusPixels&quot;: 20}], &quot;mapProvider&quot;: &quot;carto&quot;, &quot;mapStyle&quot;: &quot;https://basemaps.cartocdn.com/gl/dark-matter-gl-style/style.json&quot;, &quot;views&quot;: [{&quot;@@type&quot;: &quot;MapView&quot;, &quot;controller&quot;: true}]};\n",
       "    const tooltip = true;\n",
       "    const customLibraries = null;\n",
       "\n",
       "    const deckInstance = createDeck({\n",
       "                  container: document.getElementById(&#x27;deck-container&#x27;),\n",
       "      jsonInput,\n",
       "      tooltip,\n",
       "      customLibraries\n",
       "    });\n",
       "\n",
       "  &lt;/script&gt;\n",
       "&lt;/html&gt;\"\n",
       "        ></iframe>\n",
       "    "
      ],
      "text/plain": [
       "<IPython.core.display.HTML object>"
      ]
     },
     "execution_count": 111,
     "metadata": {},
     "output_type": "execute_result"
    }
   ],
   "source": [
    "import pydeck as pdk\n",
    "from pydeck.types import String\n",
    "\n",
    "# layer option https://deck.gl/docs/api-reference/aggregation-layers/heatmap-layer\n",
    "layer = pdk.Layer(\n",
    "    'HeatmapLayer', # 'HexagonLayer', # 'ScatterplotLayer', #'HeatmapLayer', \n",
    "    codes,\n",
    "    get_position=['lon', 'lat'],\n",
    "    #auto_highlight=True,\n",
    "    get_radius=100,\n",
    "    #get_fill_color='[180, 0, 200, 140]',\n",
    "    pickable=True,\n",
    "    opacity=0.7,\n",
    "    radiusPixels=20,\n",
    "    aggregation=String('MEAN'),\n",
    "    get_weight=\"rand\"\n",
    ")\n",
    "\n",
    "# 座標参考: https://www.gsi.go.jp/KOKUJYOHO/center.htm\n",
    "view_state = pdk.ViewState(\n",
    "    longitude=137.5936,\n",
    "    latitude=36.047,\n",
    "    zoom=5,\n",
    "    min_zoom=1,\n",
    "    max_zoom=15,\n",
    "    pitch=50,\n",
    "    bearing=-0\n",
    ")\n",
    "\n",
    "# Combined all of it and render a viewport\n",
    "r = pdk.Deck(\n",
    "    #map_style='mapbox://styles/mapbox/light-v9',\n",
    "    layers=[layer], initial_view_state=view_state,\n",
    "    #map_provider=None\n",
    ")\n",
    "\n",
    "r.to_html('example.html')"
   ]
  },
  {
   "cell_type": "code",
   "execution_count": 29,
   "id": "db54297f",
   "metadata": {},
   "outputs": [
    {
     "data": {
      "text/html": [
       "\n",
       "        <iframe\n",
       "            width=\"100%\"\n",
       "            height=500\n",
       "            frameborder=\"0\"\n",
       "            srcdoc=\"&lt;!DOCTYPE html&gt;\n",
       "&lt;html&gt;\n",
       "  &lt;head&gt;\n",
       "    &lt;meta http-equiv=&quot;content-type&quot; content=&quot;text/html; charset=UTF-8&quot; /&gt;\n",
       "    &lt;title&gt;pydeck&lt;/title&gt;\n",
       "        &lt;script src=&quot;https://api.tiles.mapbox.com/mapbox-gl-js/v1.13.0/mapbox-gl.js&quot;&gt;&lt;/script&gt;\n",
       "        &lt;link rel=&quot;stylesheet&quot; href=&quot;https://maxcdn.bootstrapcdn.com/bootstrap/3.2.0/css/bootstrap-theme.min.css&quot; /&gt;\n",
       "    &lt;link rel=&quot;stylesheet&quot; href=&quot;https://maxcdn.bootstrapcdn.com/font-awesome/4.6.3/css/font-awesome.min.css&quot; /&gt;\n",
       "    &lt;script src=&#x27;https://cdn.jsdelivr.net/npm/@deck.gl/jupyter-widget@~8.5.*/dist/index.js&#x27;&gt;&lt;/script&gt;\n",
       "    &lt;style&gt;\n",
       "    body {\n",
       "  margin: 0;\n",
       "  padding: 0;\n",
       "  overflow: hidden;\n",
       "}\n",
       "\n",
       "#deck-map-container {\n",
       "  width: 100%;\n",
       "  height: 100%;\n",
       "  background-color: black;\n",
       "}\n",
       "\n",
       "#map {\n",
       "  pointer-events: none;\n",
       "  height: 100%;\n",
       "  width: 100%;\n",
       "  position: absolute;\n",
       "  z-index: 1;\n",
       "}\n",
       "\n",
       "#deckgl-overlay {\n",
       "  z-index: 2;\n",
       "  background: none;\n",
       "}\n",
       "\n",
       "#deck-map-wrapper {\n",
       "  width: 100%;\n",
       "  height: 100%;\n",
       "}\n",
       "\n",
       "#deck-container {\n",
       "  width: 100vw;\n",
       "  height: 100vh;\n",
       "}\n",
       "    &lt;/style&gt;\n",
       "  &lt;/head&gt;\n",
       "  &lt;body&gt;\n",
       "    &lt;div id=&quot;deck-container&quot;&gt;\n",
       "    &lt;/div&gt;\n",
       "  &lt;/body&gt;\n",
       "  &lt;script&gt;\n",
       "    const jsonInput = {&quot;initialViewState&quot;: {&quot;bearing&quot;: -27.36, &quot;latitude&quot;: 52.2323, &quot;longitude&quot;: -1.415, &quot;maxZoom&quot;: 15, &quot;minZoom&quot;: 5, &quot;pitch&quot;: 40.5, &quot;zoom&quot;: 6}, &quot;layers&quot;: [{&quot;@@type&quot;: &quot;HexagonLayer&quot;, &quot;autoHighlight&quot;: true, &quot;coverage&quot;: 1, &quot;data&quot;: &quot;https://raw.githubusercontent.com/visgl/deck.gl-data/master/examples/3d-heatmap/heatmap-data.csv&quot;, &quot;elevationRange&quot;: [0, 3000], &quot;elevationScale&quot;: 50, &quot;extruded&quot;: true, &quot;getPosition&quot;: &quot;@@=[lng, lat]&quot;, &quot;id&quot;: &quot;bbc99899-3238-48b0-a94f-194cc95ad549&quot;, &quot;pickable&quot;: true}], &quot;mapProvider&quot;: &quot;carto&quot;, &quot;mapStyle&quot;: &quot;https://basemaps.cartocdn.com/gl/dark-matter-gl-style/style.json&quot;, &quot;views&quot;: [{&quot;@@type&quot;: &quot;MapView&quot;, &quot;controller&quot;: true}]};\n",
       "    const tooltip = true;\n",
       "    const customLibraries = null;\n",
       "\n",
       "    const deckInstance = createDeck({\n",
       "                  container: document.getElementById(&#x27;deck-container&#x27;),\n",
       "      jsonInput,\n",
       "      tooltip,\n",
       "      customLibraries\n",
       "    });\n",
       "\n",
       "  &lt;/script&gt;\n",
       "&lt;/html&gt;\"\n",
       "        ></iframe>\n",
       "    "
      ],
      "text/plain": [
       "<IPython.core.display.HTML object>"
      ]
     },
     "execution_count": 29,
     "metadata": {},
     "output_type": "execute_result"
    }
   ],
   "source": [
    "# https://deckgl.readthedocs.io/en/latest/layer.html#the-type-positional-argument\n",
    "import pydeck as pdk\n",
    "\n",
    "UK_ACCIDENTS_DATA = 'https://raw.githubusercontent.com/visgl/deck.gl-data/master/examples/3d-heatmap/heatmap-data.csv'\n",
    "\n",
    "layer = pdk.Layer(\n",
    "    'HexagonLayer',  # `type` positional argument is here\n",
    "    UK_ACCIDENTS_DATA,\n",
    "    get_position=['lng', 'lat'],\n",
    "    auto_highlight=True,\n",
    "    elevation_scale=50,\n",
    "    pickable=True,\n",
    "    elevation_range=[0, 3000],\n",
    "    extruded=True,\n",
    "    coverage=1)\n",
    "\n",
    "# Set the viewport location\n",
    "view_state = pdk.ViewState(\n",
    "    longitude=-1.415,\n",
    "    latitude=52.2323,\n",
    "    zoom=6,\n",
    "    min_zoom=5,\n",
    "    max_zoom=15,\n",
    "    pitch=40.5,\n",
    "    bearing=-27.36)\n",
    "\n",
    "# Combined all of it and render a viewport\n",
    "r = pdk.Deck(layers=[layer], initial_view_state=view_state)\n",
    "r.to_html('hexagon-example.html')"
   ]
  },
  {
   "cell_type": "code",
   "execution_count": null,
   "id": "a34cc825",
   "metadata": {},
   "outputs": [],
   "source": []
  }
 ],
 "metadata": {
  "kernelspec": {
   "display_name": "Python 3 (ipykernel)",
   "language": "python",
   "name": "python3"
  },
  "language_info": {
   "codemirror_mode": {
    "name": "ipython",
    "version": 3
   },
   "file_extension": ".py",
   "mimetype": "text/x-python",
   "name": "python",
   "nbconvert_exporter": "python",
   "pygments_lexer": "ipython3",
   "version": "3.8.6"
  }
 },
 "nbformat": 4,
 "nbformat_minor": 5
}

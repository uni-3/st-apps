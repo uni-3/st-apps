{
 "cells": [
  {
   "cell_type": "code",
   "execution_count": 2,
   "id": "90ec2864",
   "metadata": {},
   "outputs": [],
   "source": [
    "import geopandas\n",
    "import geopandas.tools as gts\n"
   ]
  },
  {
   "cell_type": "code",
   "execution_count": 3,
   "id": "fd840db7",
   "metadata": {},
   "outputs": [],
   "source": [
    "# 宮崎県・鹿児島県・沖縄県はデータ上まとめられてるのでなし\n",
    "prefs = [\n",
    "    '北海道', '青森県', '岩手県', '宮城県', '秋田県', '山形県',\n",
    "    '福島県', '茨城県', '栃木県', '群馬県', '埼玉県', '千葉県',\n",
    "    '東京都', '神奈川県', '新潟県', '富山県', '石川県', '福井県',\n",
    "    '山梨県', '長野県', '岐阜県', '静岡県', '愛知県', '三重県',\n",
    "    '滋賀県', '京都府', '大阪府', '兵庫県', '奈良県', '和歌山県',\n",
    "    '鳥取県', '島根県', '岡山県', '広島県', '山口県', '徳島県', \n",
    "    '香川県', '愛媛県', '高知県', '福岡県', '佐賀県', '長崎県', \n",
    "    '熊本県', '大分県'\n",
    "]\n"
   ]
  },
  {
   "cell_type": "code",
   "execution_count": 4,
   "id": "49fe23f2",
   "metadata": {},
   "outputs": [],
   "source": [
    "codes = gts.geocode(prefs, provider='nominatim', user_agent='test')\n",
    "# GeoJSONを出力\n",
    "#outpath = './prefs.geojson'\n",
    "#codes.to_file(outpath, driver='GeoJSON', encoding='utf-8')\n"
   ]
  },
  {
   "cell_type": "code",
   "execution_count": 5,
   "id": "205e3535",
   "metadata": {},
   "outputs": [
    {
     "data": {
      "text/plain": [
       "<AxesSubplot:>"
      ]
     },
     "execution_count": 5,
     "metadata": {},
     "output_type": "execute_result"
    },
    {
     "data": {
      "image/png": "[encoded data removed]",
      "text/plain": [
       "<Figure size 432x288 with 1 Axes>"
      ]
     },
     "metadata": {
      "needs_background": "light"
     },
     "output_type": "display_data"
    }
   ],
   "source": [
    "codes.plot()"
   ]
  },
  {
   "cell_type": "code",
   "execution_count": 6,
   "id": "420916fd",
   "metadata": {},
   "outputs": [
    {
     "data": {
      "text/html": [
       "<div>\n",
       "<style scoped>\n",
       "    .dataframe tbody tr th:only-of-type {\n",
       "        vertical-align: middle;\n",
       "    }\n",
       "\n",
       "    .dataframe tbody tr th {\n",
       "        vertical-align: top;\n",
       "    }\n",
       "\n",
       "    .dataframe thead th {\n",
       "        text-align: right;\n",
       "    }\n",
       "</style>\n",
       "<table border=\"1\" class=\"dataframe\">\n",
       "  <thead>\n",
       "    <tr style=\"text-align: right;\">\n",
       "      <th></th>\n",
       "      <th>geometry</th>\n",
       "      <th>address</th>\n",
       "    </tr>\n",
       "  </thead>\n",
       "  <tbody>\n",
       "    <tr>\n",
       "      <th>0</th>\n",
       "      <td>POINT (142.81978 43.45198)</td>\n",
       "      <td>北海道, 日本</td>\n",
       "    </tr>\n",
       "    <tr>\n",
       "      <th>1</th>\n",
       "      <td>POINT (140.59012 40.88694)</td>\n",
       "      <td>青森県, 日本</td>\n",
       "    </tr>\n",
       "    <tr>\n",
       "      <th>2</th>\n",
       "      <td>POINT (141.42536 39.57138)</td>\n",
       "      <td>岩手県, 日本</td>\n",
       "    </tr>\n",
       "    <tr>\n",
       "      <th>3</th>\n",
       "      <td>POINT (140.97610 38.38802)</td>\n",
       "      <td>宮城県, 日本</td>\n",
       "    </tr>\n",
       "    <tr>\n",
       "      <th>4</th>\n",
       "      <td>POINT (140.34261 39.68988)</td>\n",
       "      <td>秋田県, 日本</td>\n",
       "    </tr>\n",
       "  </tbody>\n",
       "</table>\n",
       "</div>"
      ],
      "text/plain": [
       "                     geometry  address\n",
       "0  POINT (142.81978 43.45198)  北海道, 日本\n",
       "1  POINT (140.59012 40.88694)  青森県, 日本\n",
       "2  POINT (141.42536 39.57138)  岩手県, 日本\n",
       "3  POINT (140.97610 38.38802)  宮城県, 日本\n",
       "4  POINT (140.34261 39.68988)  秋田県, 日本"
      ]
     },
     "execution_count": 6,
     "metadata": {},
     "output_type": "execute_result"
    }
   ],
   "source": [
    "codes.head()"
   ]
  },
  {
   "cell_type": "code",
   "execution_count": 13,
   "id": "80ff103c",
   "metadata": {},
   "outputs": [
    {
     "data": {
      "text/plain": [
       "'北海道, 日本の緯度経度: (142.8197834,43.4519831)'"
      ]
     },
     "execution_count": 13,
     "metadata": {},
     "output_type": "execute_result"
    }
   ],
   "source": [
    "pref = codes[\"address\"][0]\n",
    "# lon\n",
    "lon = codes[\"geometry\"][0].x\n",
    "# lat\n",
    "lat = codes[\"geometry\"][0].y\n",
    "\n",
    "f'{pref}の緯度経度: ({lon},{lat})'"
   ]
  },
  {
   "cell_type": "code",
   "execution_count": 20,
   "id": "4c4e2e86",
   "metadata": {},
   "outputs": [
    {
     "name": "stdout",
     "output_type": "stream",
     "text": [
      "北海道, 日本: [142.8197834, 43.4519831]\n",
      "青森県, 日本: [140.590121, 40.886943]\n",
      "岩手県, 日本: [141.4253574, 39.5713763]\n",
      "宮城県, 日本: [140.9761025, 38.3880155]\n",
      "秋田県, 日本: [140.342608, 39.6898802]\n",
      "山形県, 日本: [140.083237, 38.4746705]\n",
      "福島県, 日本: [140.2511854, 37.3662591]\n",
      "茨城県, 日本: [140.4703384, 36.2869536]\n",
      "栃木県, 日本: [139.8096549, 36.6782167]\n",
      "群馬県, 日本: [139.033483, 36.52198]\n",
      "埼玉県, 日本: [139.4160114, 35.9754168]\n",
      "千葉県, 日本: [140.2647303, 35.549399]\n",
      "東京都, 日本: [139.7594549, 35.6828387]\n",
      "神奈川県, 日本: [139.374753, 35.4342935]\n",
      "新潟県, 日本: [138.7669125, 37.6452283]\n",
      "富山県, 日本: [137.2183531, 36.6468015]\n",
      "石川県, 日本: [136.8163563, 36.9888678]\n",
      "福井県, 日本: [136.6068127, 35.9263502]\n",
      "山梨県, 日本: [138.6380495, 35.6399328]\n",
      "長野県, 日本: [138.0319015, 36.1143945]\n",
      "岐阜県, 日本: [137.0460777, 35.7867449]\n",
      "静岡県, 日本: [138.0955398, 34.9332488]\n",
      "愛知県, 日本: [137.254574, 34.9991645]\n",
      "三重県, 日本: [136.5154489, 34.7339685]\n",
      "滋賀県, 日本: [136.109385, 35.247154]\n",
      "京都府, 日本: [135.454601, 35.242552]\n",
      "大阪府, 日本: [135.490357, 34.6198813]\n",
      "兵庫県, 日本: [134.860666, 34.914934]\n",
      "奈良県, 日本: [135.8816819, 34.2963089]\n",
      "和歌山県, 日本: [135.5930743, 33.8070292]\n",
      "鳥取県, 日本: [133.8678525, 35.3555075]\n",
      "島根県, 日本: [132.537439, 34.9418212]\n",
      "岡山県, 日本: [133.7759256, 34.8581334]\n",
      "広島県, 日本: [132.753565, 34.5666725]\n",
      "山口県, 日本: [131.5873845, 34.2379614]\n",
      "徳島県, 日本: [134.2509634, 33.9196418]\n",
      "香川県, 日本: [134.0586579, 34.2480104]\n",
      "愛媛県, 日本: [132.8185275, 33.6013646]\n",
      "高知県, 日本: [133.5606241, 33.6569018]\n",
      "福岡県, 日本: [130.6180016, 33.6251241]\n",
      "佐賀県, 日本: [130.1296585, 33.2185408]\n",
      "長崎県, 日本: [129.7874339, 33.1154683]\n",
      "熊本県, 日本: [130.6341345, 32.6450475]\n",
      "大分県, 日本: [131.4270217, 33.1819875]\n"
     ]
    }
   ],
   "source": [
    "import json\n",
    "geojson = json.loads(codes.to_json())\n",
    "\n",
    "for feat in geojson['features']:\n",
    "    prop = feat['properties']\n",
    "    coor = feat[\"geometry\"][\"coordinates\"]\n",
    "    print(f\"{prop['address']}: {coor}\")"
   ]
  },
  {
   "cell_type": "code",
   "execution_count": null,
   "id": "47e6207d",
   "metadata": {},
   "outputs": [],
   "source": []
  }
 ],
 "metadata": {
  "kernelspec": {
   "display_name": "Python 3 (ipykernel)",
   "language": "python",
   "name": "python3"
  },
  "language_info": {
   "codemirror_mode": {
    "name": "ipython",
    "version": 3
   },
   "file_extension": ".py",
   "mimetype": "text/x-python",
   "name": "python",
   "nbconvert_exporter": "python",
   "pygments_lexer": "ipython3",
   "version": "3.8.6"
  }
 },
 "nbformat": 4,
 "nbformat_minor": 5
}

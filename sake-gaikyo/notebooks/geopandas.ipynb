{
 "cells": [
  {
   "cell_type": "markdown",
   "id": "f9d2263a",
   "metadata": {},
   "source": [
    "### geocoding and plot"
   ]
  },
  {
   "cell_type": "code",
   "execution_count": 25,
   "id": "90ec2864",
   "metadata": {},
   "outputs": [
    {
     "ename": "ModuleNotFoundError",
     "evalue": "No module named 'geopandas'",
     "output_type": "error",
     "traceback": [
      "\u001b[0;31m---------------------------------------------------------------------------\u001b[0m",
      "\u001b[0;31mModuleNotFoundError\u001b[0m                       Traceback (most recent call last)",
      "Cell \u001b[0;32mIn[25], line 1\u001b[0m\n\u001b[0;32m----> 1\u001b[0m \u001b[39mimport\u001b[39;00m \u001b[39mgeopandas\u001b[39;00m\n\u001b[1;32m      2\u001b[0m \u001b[39mimport\u001b[39;00m \u001b[39mgeopandas\u001b[39;00m\u001b[39m.\u001b[39;00m\u001b[39mtools\u001b[39;00m \u001b[39mas\u001b[39;00m \u001b[39mgts\u001b[39;00m\n",
      "\u001b[0;31mModuleNotFoundError\u001b[0m: No module named 'geopandas'"
     ]
    }
   ],
   "source": [
    "import geopandas\n",
    "import geopandas.tools as gts\n"
   ]
  },
  {
   "cell_type": "code",
   "execution_count": 4,
   "id": "fd840db7",
   "metadata": {},
   "outputs": [],
   "source": [
    "prefs = [\n",
    "    '北海道', '青森県', '岩手県', '宮城県', '秋田県', '山形県',\n",
    "    '福島県', '茨城県', '栃木県', '群馬県', '埼玉県', '千葉県',\n",
    "    '東京都', '神奈川県', '新潟県', '富山県', '石川県', '福井県',\n",
    "    '山梨県', '長野県', '岐阜県', '静岡県', '愛知県', '三重県',\n",
    "    '滋賀県', '京都府', '大阪府', '兵庫県', '奈良県', '和歌山県',\n",
    "    '鳥取県', '島根県', '岡山県', '広島県', '山口県', '徳島県', \n",
    "    '香川県', '愛媛県', '高知県', '福岡県', '佐賀県', '長崎県', \n",
    "    '熊本県', '大分県', '宮崎県', '鹿児島県', '沖縄県'\n",
    "]\n"
   ]
  },
  {
   "cell_type": "code",
   "execution_count": 5,
   "id": "49fe23f2",
   "metadata": {},
   "outputs": [
    {
     "ename": "NameError",
     "evalue": "name 'gts' is not defined",
     "output_type": "error",
     "traceback": [
      "\u001b[0;31m---------------------------------------------------------------------------\u001b[0m",
      "\u001b[0;31mNameError\u001b[0m                                 Traceback (most recent call last)",
      "Cell \u001b[0;32mIn[5], line 1\u001b[0m\n\u001b[0;32m----> 1\u001b[0m codes \u001b[39m=\u001b[39m gts\u001b[39m.\u001b[39mgeocode(prefs, provider\u001b[39m=\u001b[39m\u001b[39m'\u001b[39m\u001b[39mnominatim\u001b[39m\u001b[39m'\u001b[39m, user_agent\u001b[39m=\u001b[39m\u001b[39m'\u001b[39m\u001b[39mtest\u001b[39m\u001b[39m'\u001b[39m)\n\u001b[1;32m      2\u001b[0m \u001b[39m# save to GeoJSON\u001b[39;00m\n\u001b[1;32m      3\u001b[0m \u001b[39m#outpath = './prefs.geojson'\u001b[39;00m\n\u001b[1;32m      4\u001b[0m \u001b[39m#codes.to_file(outpath, driver='GeoJSON', encoding='utf-8')\u001b[39;00m\n",
      "\u001b[0;31mNameError\u001b[0m: name 'gts' is not defined"
     ]
    }
   ],
   "source": [
    "codes = gts.geocode(prefs, provider='nominatim', user_agent='test')\n",
    "# save to GeoJSON\n",
    "#outpath = './prefs.geojson'\n",
    "#codes.to_file(outpath, driver='GeoJSON', encoding='utf-8')\n"
   ]
  },
  {
   "cell_type": "code",
   "execution_count": 6,
   "id": "205e3535",
   "metadata": {},
   "outputs": [
    {
     "ename": "NameError",
     "evalue": "name 'codes' is not defined",
     "output_type": "error",
     "traceback": [
      "\u001b[0;31m---------------------------------------------------------------------------\u001b[0m",
      "\u001b[0;31mNameError\u001b[0m                                 Traceback (most recent call last)",
      "Cell \u001b[0;32mIn[6], line 1\u001b[0m\n\u001b[0;32m----> 1\u001b[0m codes\u001b[39m.\u001b[39mplot()\n",
      "\u001b[0;31mNameError\u001b[0m: name 'codes' is not defined"
     ]
    }
   ],
   "source": [
    "codes.plot()"
   ]
  },
  {
   "cell_type": "code",
   "execution_count": 7,
   "id": "80ff103c",
   "metadata": {},
   "outputs": [
    {
     "ename": "NameError",
     "evalue": "name 'codes' is not defined",
     "output_type": "error",
     "traceback": [
      "\u001b[0;31m---------------------------------------------------------------------------\u001b[0m",
      "\u001b[0;31mNameError\u001b[0m                                 Traceback (most recent call last)",
      "Cell \u001b[0;32mIn[7], line 1\u001b[0m\n\u001b[0;32m----> 1\u001b[0m pref \u001b[39m=\u001b[39m codes[\u001b[39m\"\u001b[39m\u001b[39maddress\u001b[39m\u001b[39m\"\u001b[39m][\u001b[39m0\u001b[39m]\n\u001b[1;32m      2\u001b[0m \u001b[39m# lon\u001b[39;00m\n\u001b[1;32m      3\u001b[0m lon \u001b[39m=\u001b[39m codes[\u001b[39m\"\u001b[39m\u001b[39mgeometry\u001b[39m\u001b[39m\"\u001b[39m][\u001b[39m0\u001b[39m]\u001b[39m.\u001b[39mx\n",
      "\u001b[0;31mNameError\u001b[0m: name 'codes' is not defined"
     ]
    }
   ],
   "source": [
    "pref = codes[\"address\"][0]\n",
    "# lon\n",
    "lon = codes[\"geometry\"][0].x\n",
    "# lat\n",
    "lat = codes[\"geometry\"][0].y\n",
    "\n",
    "f'{pref}の緯度経度: ({lon},{lat})'"
   ]
  },
  {
   "cell_type": "code",
   "execution_count": 8,
   "id": "421646a2",
   "metadata": {},
   "outputs": [
    {
     "ename": "NameError",
     "evalue": "name 'codes' is not defined",
     "output_type": "error",
     "traceback": [
      "\u001b[0;31m---------------------------------------------------------------------------\u001b[0m",
      "\u001b[0;31mNameError\u001b[0m                                 Traceback (most recent call last)",
      "Cell \u001b[0;32mIn[8], line 1\u001b[0m\n\u001b[0;32m----> 1\u001b[0m codes[\u001b[39m'\u001b[39m\u001b[39mlon\u001b[39m\u001b[39m'\u001b[39m] \u001b[39m=\u001b[39m codes[\u001b[39m'\u001b[39m\u001b[39mgeometry\u001b[39m\u001b[39m'\u001b[39m]\u001b[39m.\u001b[39mmap(\u001b[39mlambda\u001b[39;00m x: x\u001b[39m.\u001b[39mx)\n\u001b[1;32m      2\u001b[0m codes[\u001b[39m'\u001b[39m\u001b[39mlat\u001b[39m\u001b[39m'\u001b[39m] \u001b[39m=\u001b[39m codes[\u001b[39m'\u001b[39m\u001b[39mgeometry\u001b[39m\u001b[39m'\u001b[39m]\u001b[39m.\u001b[39mmap(\u001b[39mlambda\u001b[39;00m x: x\u001b[39m.\u001b[39my)\n",
      "\u001b[0;31mNameError\u001b[0m: name 'codes' is not defined"
     ]
    }
   ],
   "source": [
    "codes['lon'] = codes['geometry'].map(lambda x: x.x)\n",
    "codes['lat'] = codes['geometry'].map(lambda x: x.y)\n"
   ]
  },
  {
   "cell_type": "code",
   "execution_count": 9,
   "id": "ec416ecc",
   "metadata": {},
   "outputs": [
    {
     "ename": "NameError",
     "evalue": "name 'codes' is not defined",
     "output_type": "error",
     "traceback": [
      "\u001b[0;31m---------------------------------------------------------------------------\u001b[0m",
      "\u001b[0;31mNameError\u001b[0m                                 Traceback (most recent call last)",
      "Cell \u001b[0;32mIn[9], line 2\u001b[0m\n\u001b[1;32m      1\u001b[0m \u001b[39mimport\u001b[39;00m \u001b[39mrandom\u001b[39;00m\n\u001b[0;32m----> 2\u001b[0m codes[\u001b[39m'\u001b[39m\u001b[39mrand\u001b[39m\u001b[39m'\u001b[39m] \u001b[39m=\u001b[39m codes[\u001b[39m'\u001b[39m\u001b[39mgeometry\u001b[39m\u001b[39m'\u001b[39m]\u001b[39m.\u001b[39mmap(\u001b[39mlambda\u001b[39;00m x: random\u001b[39m.\u001b[39mrandint(\u001b[39m1\u001b[39m, \u001b[39m10\u001b[39m))\n",
      "\u001b[0;31mNameError\u001b[0m: name 'codes' is not defined"
     ]
    }
   ],
   "source": [
    "import random\n",
    "codes['rand'] = codes['geometry'].map(lambda x: random.randint(1, 10))"
   ]
  },
  {
   "cell_type": "code",
   "execution_count": 10,
   "id": "f38473af",
   "metadata": {},
   "outputs": [
    {
     "ename": "NameError",
     "evalue": "name 'codes' is not defined",
     "output_type": "error",
     "traceback": [
      "\u001b[0;31m---------------------------------------------------------------------------\u001b[0m",
      "\u001b[0;31mNameError\u001b[0m                                 Traceback (most recent call last)",
      "Cell \u001b[0;32mIn[10], line 1\u001b[0m\n\u001b[0;32m----> 1\u001b[0m codes\u001b[39m.\u001b[39mhead()\n",
      "\u001b[0;31mNameError\u001b[0m: name 'codes' is not defined"
     ]
    }
   ],
   "source": [
    "codes.head()"
   ]
  },
  {
   "cell_type": "code",
   "execution_count": 11,
   "id": "4c4e2e86",
   "metadata": {},
   "outputs": [
    {
     "ename": "NameError",
     "evalue": "name 'codes' is not defined",
     "output_type": "error",
     "traceback": [
      "\u001b[0;31m---------------------------------------------------------------------------\u001b[0m",
      "\u001b[0;31mNameError\u001b[0m                                 Traceback (most recent call last)",
      "Cell \u001b[0;32mIn[11], line 2\u001b[0m\n\u001b[1;32m      1\u001b[0m \u001b[39mimport\u001b[39;00m \u001b[39mjson\u001b[39;00m\n\u001b[0;32m----> 2\u001b[0m geojson \u001b[39m=\u001b[39m json\u001b[39m.\u001b[39mloads(codes\u001b[39m.\u001b[39mto_json())\n\u001b[1;32m      4\u001b[0m \u001b[39mfor\u001b[39;00m feat \u001b[39min\u001b[39;00m geojson[\u001b[39m'\u001b[39m\u001b[39mfeatures\u001b[39m\u001b[39m'\u001b[39m]:\n\u001b[1;32m      5\u001b[0m     prop \u001b[39m=\u001b[39m feat[\u001b[39m'\u001b[39m\u001b[39mproperties\u001b[39m\u001b[39m'\u001b[39m]\n",
      "\u001b[0;31mNameError\u001b[0m: name 'codes' is not defined"
     ]
    }
   ],
   "source": [
    "import json\n",
    "geojson = json.loads(codes.to_json())\n",
    "\n",
    "for feat in geojson['features']:\n",
    "    prop = feat['properties']\n",
    "    coor = feat[\"geometry\"][\"coordinates\"]\n",
    "    print(f\"{prop['address']}: {coor}\")\\\n",
    "    \n",
    "    break"
   ]
  },
  {
   "cell_type": "code",
   "execution_count": 12,
   "id": "5ad35652",
   "metadata": {},
   "outputs": [
    {
     "ename": "ModuleNotFoundError",
     "evalue": "No module named 'pydeck'",
     "output_type": "error",
     "traceback": [
      "\u001b[0;31m---------------------------------------------------------------------------\u001b[0m",
      "\u001b[0;31mModuleNotFoundError\u001b[0m                       Traceback (most recent call last)",
      "Cell \u001b[0;32mIn[12], line 1\u001b[0m\n\u001b[0;32m----> 1\u001b[0m \u001b[39mimport\u001b[39;00m \u001b[39mpydeck\u001b[39;00m \u001b[39mas\u001b[39;00m \u001b[39mpdk\u001b[39;00m\n\u001b[1;32m      2\u001b[0m \u001b[39mfrom\u001b[39;00m \u001b[39mpydeck\u001b[39;00m\u001b[39m.\u001b[39;00m\u001b[39mtypes\u001b[39;00m \u001b[39mimport\u001b[39;00m String\n\u001b[1;32m      4\u001b[0m \u001b[39m# layer option https://deck.gl/docs/api-reference/aggregation-layers/heatmap-layer\u001b[39;00m\n",
      "\u001b[0;31mModuleNotFoundError\u001b[0m: No module named 'pydeck'"
     ]
    }
   ],
   "source": [
    "import pydeck as pdk\n",
    "from pydeck.types import String\n",
    "\n",
    "# layer option https://deck.gl/docs/api-reference/aggregation-layers/heatmap-layer\n",
    "layer = pdk.Layer(\n",
    "    'HeatmapLayer', # 'HexagonLayer', # 'ScatterplotLayer', #'HeatmapLayer', \n",
    "    codes,\n",
    "    get_position=['lon', 'lat'],\n",
    "    #auto_highlight=True,\n",
    "    get_radius=100,\n",
    "    #get_fill_color='[180, 0, 200, 140]',\n",
    "    pickable=True,\n",
    "    opacity=0.7,\n",
    "    radiusPixels=20,\n",
    "    aggregation=String('MEAN'),\n",
    "    get_weight=\"rand\"\n",
    ")\n",
    "\n",
    "# 座標参考: https://www.gsi.go.jp/KOKUJYOHO/center.htm\n",
    "view_state = pdk.ViewState(\n",
    "    longitude=137.5936,\n",
    "    latitude=36.047,\n",
    "    zoom=5,\n",
    "    min_zoom=1,\n",
    "    max_zoom=15,\n",
    "    pitch=50,\n",
    "    bearing=-0\n",
    ")\n",
    "\n",
    "# Combined all of it and render a viewport\n",
    "r = pdk.Deck(\n",
    "    #map_style='mapbox://styles/mapbox/light-v9',\n",
    "    layers=[layer], initial_view_state=view_state,\n",
    "    #map_provider=None\n",
    ")\n",
    "\n",
    "r.to_html('example.html')"
   ]
  },
  {
   "cell_type": "code",
   "execution_count": 13,
   "id": "db54297f",
   "metadata": {},
   "outputs": [
    {
     "ename": "ModuleNotFoundError",
     "evalue": "No module named 'pydeck'",
     "output_type": "error",
     "traceback": [
      "\u001b[0;31m---------------------------------------------------------------------------\u001b[0m",
      "\u001b[0;31mModuleNotFoundError\u001b[0m                       Traceback (most recent call last)",
      "Cell \u001b[0;32mIn[13], line 2\u001b[0m\n\u001b[1;32m      1\u001b[0m \u001b[39m# https://deckgl.readthedocs.io/en/latest/layer.html#the-type-positional-argument\u001b[39;00m\n\u001b[0;32m----> 2\u001b[0m \u001b[39mimport\u001b[39;00m \u001b[39mpydeck\u001b[39;00m \u001b[39mas\u001b[39;00m \u001b[39mpdk\u001b[39;00m\n\u001b[1;32m      4\u001b[0m UK_ACCIDENTS_DATA \u001b[39m=\u001b[39m \u001b[39m'\u001b[39m\u001b[39mhttps://raw.githubusercontent.com/visgl/deck.gl-data/master/examples/3d-heatmap/heatmap-data.csv\u001b[39m\u001b[39m'\u001b[39m\n\u001b[1;32m      6\u001b[0m layer \u001b[39m=\u001b[39m pdk\u001b[39m.\u001b[39mLayer(\n\u001b[1;32m      7\u001b[0m     \u001b[39m'\u001b[39m\u001b[39mHexagonLayer\u001b[39m\u001b[39m'\u001b[39m,  \u001b[39m# `type` positional argument is here\u001b[39;00m\n\u001b[1;32m      8\u001b[0m     UK_ACCIDENTS_DATA,\n\u001b[0;32m   (...)\u001b[0m\n\u001b[1;32m     14\u001b[0m     extruded\u001b[39m=\u001b[39m\u001b[39mTrue\u001b[39;00m,\n\u001b[1;32m     15\u001b[0m     coverage\u001b[39m=\u001b[39m\u001b[39m1\u001b[39m)\n",
      "\u001b[0;31mModuleNotFoundError\u001b[0m: No module named 'pydeck'"
     ]
    }
   ],
   "source": [
    "# https://deckgl.readthedocs.io/en/latest/layer.html#the-type-positional-argument\n",
    "import pydeck as pdk\n",
    "\n",
    "UK_ACCIDENTS_DATA = 'https://raw.githubusercontent.com/visgl/deck.gl-data/master/examples/3d-heatmap/heatmap-data.csv'\n",
    "\n",
    "layer = pdk.Layer(\n",
    "    'HexagonLayer',  # `type` positional argument is here\n",
    "    UK_ACCIDENTS_DATA,\n",
    "    get_position=['lng', 'lat'],\n",
    "    auto_highlight=True,\n",
    "    elevation_scale=50,\n",
    "    pickable=True,\n",
    "    elevation_range=[0, 3000],\n",
    "    extruded=True,\n",
    "    coverage=1)\n",
    "\n",
    "# Set the viewport location\n",
    "view_state = pdk.ViewState(\n",
    "    longitude=-1.415,\n",
    "    latitude=52.2323,\n",
    "    zoom=6,\n",
    "    min_zoom=5,\n",
    "    max_zoom=15,\n",
    "    pitch=40.5,\n",
    "    bearing=-27.36)\n",
    "\n",
    "# Combined all of it and render a viewport\n",
    "r = pdk.Deck(layers=[layer], initial_view_state=view_state)\n",
    "r.to_html('hexagon-example.html')"
   ]
  },
  {
   "cell_type": "markdown",
   "id": "3d3e6001",
   "metadata": {},
   "source": [
    "### use geojson"
   ]
  },
  {
   "cell_type": "code",
   "execution_count": 14,
   "id": "20296b2f",
   "metadata": {},
   "outputs": [
    {
     "ename": "NameError",
     "evalue": "name 'geopandas' is not defined",
     "output_type": "error",
     "traceback": [
      "\u001b[0;31m---------------------------------------------------------------------------\u001b[0m",
      "\u001b[0;31mNameError\u001b[0m                                 Traceback (most recent call last)",
      "Cell \u001b[0;32mIn[14], line 2\u001b[0m\n\u001b[1;32m      1\u001b[0m \u001b[39m# https://note.com/yearman/n/n69fa3f2d583d\u001b[39;00m\n\u001b[0;32m----> 2\u001b[0m japan \u001b[39m=\u001b[39m geopandas\u001b[39m.\u001b[39mread_file(\u001b[39m'\u001b[39m\u001b[39mhttps://raw.githubusercontent.com/dataofjapan/land/master/japan.topojson\u001b[39m\u001b[39m'\u001b[39m)\n\u001b[1;32m      3\u001b[0m japan\u001b[39m.\u001b[39mplot()\n",
      "\u001b[0;31mNameError\u001b[0m: name 'geopandas' is not defined"
     ]
    }
   ],
   "source": [
    "# https://note.com/yearman/n/n69fa3f2d583d\n",
    "japan = geopandas.read_file('https://raw.githubusercontent.com/dataofjapan/land/master/japan.topojson')\n",
    "japan.plot()\n",
    "\n"
   ]
  },
  {
   "cell_type": "code",
   "execution_count": 15,
   "id": "991a06dc",
   "metadata": {},
   "outputs": [
    {
     "ename": "NameError",
     "evalue": "name 'japan' is not defined",
     "output_type": "error",
     "traceback": [
      "\u001b[0;31m---------------------------------------------------------------------------\u001b[0m",
      "\u001b[0;31mNameError\u001b[0m                                 Traceback (most recent call last)",
      "Cell \u001b[0;32mIn[15], line 1\u001b[0m\n\u001b[0;32m----> 1\u001b[0m japan[japan[\u001b[39m'\u001b[39m\u001b[39mnam_ja\u001b[39m\u001b[39m'\u001b[39m] \u001b[39m==\u001b[39m \u001b[39m'\u001b[39m\u001b[39m北海道\u001b[39m\u001b[39m'\u001b[39m]\u001b[39m.\u001b[39mplot()\n",
      "\u001b[0;31mNameError\u001b[0m: name 'japan' is not defined"
     ]
    }
   ],
   "source": [
    "japan[japan['nam_ja'] == '北海道'].plot()\n"
   ]
  },
  {
   "cell_type": "code",
   "execution_count": 16,
   "id": "ff61b20b",
   "metadata": {},
   "outputs": [
    {
     "ename": "NameError",
     "evalue": "name 'japan' is not defined",
     "output_type": "error",
     "traceback": [
      "\u001b[0;31m---------------------------------------------------------------------------\u001b[0m",
      "\u001b[0;31mNameError\u001b[0m                                 Traceback (most recent call last)",
      "Cell \u001b[0;32mIn[16], line 1\u001b[0m\n\u001b[0;32m----> 1\u001b[0m japan\u001b[39m.\u001b[39mhead()\n",
      "\u001b[0;31mNameError\u001b[0m: name 'japan' is not defined"
     ]
    }
   ],
   "source": [
    "japan.head()"
   ]
  },
  {
   "cell_type": "code",
   "execution_count": 17,
   "id": "20ab6c07",
   "metadata": {},
   "outputs": [
    {
     "ename": "NameError",
     "evalue": "name 'japan' is not defined",
     "output_type": "error",
     "traceback": [
      "\u001b[0;31m---------------------------------------------------------------------------\u001b[0m",
      "\u001b[0;31mNameError\u001b[0m                                 Traceback (most recent call last)",
      "Cell \u001b[0;32mIn[17], line 1\u001b[0m\n\u001b[0;32m----> 1\u001b[0m japan[\u001b[39m'\u001b[39m\u001b[39mgeometry\u001b[39m\u001b[39m'\u001b[39m][\u001b[39m1\u001b[39m]\n",
      "\u001b[0;31mNameError\u001b[0m: name 'japan' is not defined"
     ]
    }
   ],
   "source": [
    "japan['geometry'][1]"
   ]
  },
  {
   "cell_type": "code",
   "execution_count": 18,
   "id": "4f632904",
   "metadata": {},
   "outputs": [
    {
     "ename": "NameError",
     "evalue": "name 'japan' is not defined",
     "output_type": "error",
     "traceback": [
      "\u001b[0;31m---------------------------------------------------------------------------\u001b[0m",
      "\u001b[0;31mNameError\u001b[0m                                 Traceback (most recent call last)",
      "Cell \u001b[0;32mIn[18], line 1\u001b[0m\n\u001b[0;32m----> 1\u001b[0m japan[\u001b[39m'\u001b[39m\u001b[39mgeometry\u001b[39m\u001b[39m'\u001b[39m][\u001b[39m2\u001b[39m]\n",
      "\u001b[0;31mNameError\u001b[0m: name 'japan' is not defined"
     ]
    }
   ],
   "source": [
    "japan['geometry'][2]"
   ]
  },
  {
   "cell_type": "code",
   "execution_count": 19,
   "id": "7e8ba30b",
   "metadata": {},
   "outputs": [
    {
     "ename": "NameError",
     "evalue": "name 'japan' is not defined",
     "output_type": "error",
     "traceback": [
      "\u001b[0;31m---------------------------------------------------------------------------\u001b[0m",
      "\u001b[0;31mNameError\u001b[0m                                 Traceback (most recent call last)",
      "Cell \u001b[0;32mIn[19], line 2\u001b[0m\n\u001b[1;32m      1\u001b[0m \u001b[39mimport\u001b[39;00m \u001b[39mrandom\u001b[39;00m\n\u001b[0;32m----> 2\u001b[0m japan[\u001b[39m'\u001b[39m\u001b[39mrand\u001b[39m\u001b[39m'\u001b[39m] \u001b[39m=\u001b[39m japan[\u001b[39m'\u001b[39m\u001b[39mgeometry\u001b[39m\u001b[39m'\u001b[39m]\u001b[39m.\u001b[39mmap(\u001b[39mlambda\u001b[39;00m x: random\u001b[39m.\u001b[39mrandint(\u001b[39m0\u001b[39m, \u001b[39m10\u001b[39m))\n",
      "\u001b[0;31mNameError\u001b[0m: name 'japan' is not defined"
     ]
    }
   ],
   "source": [
    "import random\n",
    "japan['rand'] = japan['geometry'].map(lambda x: random.randint(0, 10))"
   ]
  },
  {
   "cell_type": "code",
   "execution_count": 20,
   "id": "944de994",
   "metadata": {},
   "outputs": [
    {
     "ename": "ModuleNotFoundError",
     "evalue": "No module named 'pydeck'",
     "output_type": "error",
     "traceback": [
      "\u001b[0;31m---------------------------------------------------------------------------\u001b[0m",
      "\u001b[0;31mModuleNotFoundError\u001b[0m                       Traceback (most recent call last)",
      "Cell \u001b[0;32mIn[20], line 1\u001b[0m\n\u001b[0;32m----> 1\u001b[0m \u001b[39mimport\u001b[39;00m \u001b[39mpydeck\u001b[39;00m \u001b[39mas\u001b[39;00m \u001b[39mpdk\u001b[39;00m\n\u001b[1;32m      3\u001b[0m \u001b[39m# 座標参考: https://www.gsi.go.jp/KOKUJYOHO/center.htm\u001b[39;00m\n\u001b[1;32m      4\u001b[0m view_state \u001b[39m=\u001b[39m pdk\u001b[39m.\u001b[39mViewState(\n\u001b[1;32m      5\u001b[0m     longitude\u001b[39m=\u001b[39m\u001b[39m137.5936\u001b[39m,\n\u001b[1;32m      6\u001b[0m     latitude\u001b[39m=\u001b[39m\u001b[39m36.047\u001b[39m,\n\u001b[0;32m   (...)\u001b[0m\n\u001b[1;32m     11\u001b[0m     bearing\u001b[39m=\u001b[39m\u001b[39m-\u001b[39m\u001b[39m0\u001b[39m\n\u001b[1;32m     12\u001b[0m )\n",
      "\u001b[0;31mModuleNotFoundError\u001b[0m: No module named 'pydeck'"
     ]
    }
   ],
   "source": [
    "import pydeck as pdk\n",
    "\n",
    "# 座標参考: https://www.gsi.go.jp/KOKUJYOHO/center.htm\n",
    "view_state = pdk.ViewState(\n",
    "    longitude=137.5936,\n",
    "    latitude=36.047,\n",
    "    zoom=4,\n",
    "    min_zoom=1,\n",
    "    max_zoom=15,\n",
    "    pitch=50,\n",
    "    bearing=-0\n",
    ")\n",
    "\n",
    "geojson = pdk.Layer(\n",
    "    \"GeoJsonLayer\",\n",
    "    japan,\n",
    "    opacity=0.8,\n",
    "    stroked=False,\n",
    "    filled=True,\n",
    "    extruded=True,\n",
    "    wireframe=True,\n",
    "    get_fill_color=\"[255, rand * 255, 255]\",\n",
    "    get_line_color=[255, 255, 255],\n",
    ")\n",
    "\n",
    "r = pdk.Deck(layers=[geojson], initial_view_state=view_state)\n",
    "\n",
    "r.to_html(\"geojson_layer.html\")"
   ]
  },
  {
   "cell_type": "code",
   "execution_count": null,
   "id": "075f4e7b",
   "metadata": {},
   "outputs": [],
   "source": []
  },
  {
   "cell_type": "code",
   "execution_count": null,
   "id": "1d26beac",
   "metadata": {},
   "outputs": [],
   "source": []
  },
  {
   "cell_type": "code",
   "execution_count": null,
   "id": "11016718",
   "metadata": {},
   "outputs": [],
   "source": []
  },
  {
   "cell_type": "code",
   "execution_count": null,
   "id": "a9ee164f",
   "metadata": {},
   "outputs": [],
   "source": []
  },
  {
   "cell_type": "code",
   "execution_count": null,
   "id": "ad25ed32",
   "metadata": {},
   "outputs": [],
   "source": []
  }
 ],
 "metadata": {
  "kernelspec": {
   "display_name": "Python 3 (ipykernel)",
   "language": "python",
   "name": "python3"
  },
  "language_info": {
   "codemirror_mode": {
    "name": "ipython",
    "version": 3
   },
   "file_extension": ".py",
   "mimetype": "text/x-python",
   "name": "python",
   "nbconvert_exporter": "python",
   "pygments_lexer": "ipython3",
   "version": "3.10.2"
  }
 },
 "nbformat": 4,
 "nbformat_minor": 5
}
